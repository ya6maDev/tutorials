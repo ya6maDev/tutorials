{
 "cells": [
  {
   "cell_type": "markdown",
   "metadata": {},
   "source": [
    "## MNIST For ML Beginners\n",
    "https://www.tensorflow.org/tutorials/mnist/beginners/\n",
    "\n",
    "## 参考\n",
    "http://qiita.com/uramonk/items/13bb92e9c6a1b548ac4b\n",
    "\n",
    "http://qiita.com/uramonk/items/c207c948ccb6cd0a1346"
   ]
  },
  {
   "cell_type": "code",
   "execution_count": 1,
   "metadata": {
    "collapsed": true
   },
   "outputs": [],
   "source": [
    "from tensorflow.examples.tutorials.mnist import input_data\n",
    "import tensorflow as tf"
   ]
  },
  {
   "cell_type": "code",
   "execution_count": 2,
   "metadata": {
    "collapsed": false
   },
   "outputs": [
    {
     "name": "stdout",
     "output_type": "stream",
     "text": [
      "Extracting MNIST_data/train-images-idx3-ubyte.gz\n",
      "Extracting MNIST_data/train-labels-idx1-ubyte.gz\n",
      "Extracting MNIST_data/t10k-images-idx3-ubyte.gz\n",
      "Extracting MNIST_data/t10k-labels-idx1-ubyte.gz\n"
     ]
    }
   ],
   "source": [
    "# MNISTデータの読み込み\n",
    "# 60000点の訓練データ（mnist.train）と10000点のテストデータ（mnist.test）がある\n",
    "# 訓練データとテストデータにはそれぞれ0-9の画像とそれに対応するラベル（0-9）がある\n",
    "# 画像は28x28px(=784)のサイズ\n",
    "# mnist.train.imagesは[60000, 784]の配列であり、mnist.train.lablesは[60000, 10]の配列\n",
    "# lablesの配列は、対応するimagesの画像が3の数字であるならば、[0,0,0,1,0,0,0,0,0,0]となっている\n",
    "# mnist.test.imagesは[10000, 784]の配列であり、mnist.test.lablesは[10000, 10]の配列\n",
    "mnist = input_data.read_data_sets(\"MNIST_data/\", one_hot=True)"
   ]
  },
  {
   "cell_type": "code",
   "execution_count": 3,
   "metadata": {
    "collapsed": true
   },
   "outputs": [],
   "source": [
    "# 訓練画像を入れる変数\n",
    "# 訓練画像は28x28pxであり、これらを1行784列のベクトルに並び替え格納する\n",
    "# Noneとなっているのは訓練画像がいくつでも入れられるようにするため\n",
    "x = tf.placeholder(tf.float32, [None, 784])"
   ]
  },
  {
   "cell_type": "code",
   "execution_count": 4,
   "metadata": {
    "collapsed": true
   },
   "outputs": [],
   "source": [
    "# 重み\n",
    "# 訓練画像のpx数の行、ラベル（0-9の数字の個数）数の列の行列\n",
    "# 初期値として0を入れておく\n",
    "W = tf.Variable(tf.zeros([784, 10]))\n",
    "\n",
    "# ラベル数の列の行列\n",
    "# 初期値として0を入れておく\n",
    "b = tf.Variable(tf.zeros([10]))"
   ]
  },
  {
   "cell_type": "code",
   "execution_count": 5,
   "metadata": {
    "collapsed": true
   },
   "outputs": [],
   "source": [
    "# ソフトマックス回帰を実行\n",
    "# yは入力x（画像）に対しそれがある数字である確率の分布\n",
    "# matmul関数で行列xとWの掛け算を行った後、bを加算する。\n",
    "# yは[1, 10]の行列\n",
    "y = tf.nn.softmax(tf.matmul(x, W) + b)"
   ]
  },
  {
   "cell_type": "code",
   "execution_count": 6,
   "metadata": {
    "collapsed": true
   },
   "outputs": [],
   "source": [
    "# 交差エントロピー\n",
    "# y_は正解データのラベル\n",
    "y_ = tf.placeholder(tf.float32, [None, 10])\n",
    "cross_entropy = tf.reduce_mean(-tf.reduce_sum(y_ * tf.log(y), reduction_indices=[1]))"
   ]
  },
  {
   "cell_type": "code",
   "execution_count": 7,
   "metadata": {
    "collapsed": true
   },
   "outputs": [],
   "source": [
    "# 勾配硬化法を用い交差エントロピーが最小となるようyを最適化する\n",
    "train_step = tf.train.GradientDescentOptimizer(0.5).minimize(cross_entropy)"
   ]
  },
  {
   "cell_type": "code",
   "execution_count": 8,
   "metadata": {
    "collapsed": false
   },
   "outputs": [],
   "source": [
    "# セッションを開始する\n",
    "sess = tf.InteractiveSession()\n",
    "tf.global_variables_initializer().run()"
   ]
  },
  {
   "cell_type": "code",
   "execution_count": 9,
   "metadata": {
    "collapsed": true
   },
   "outputs": [],
   "source": [
    "# 1000回の訓練（train_step）を実行する\n",
    "# next_batch(100)で100つのランダムな訓練セット（画像と対応するラベル）を選択する\n",
    "# 訓練データは60000点あるので全て使いたいところだが時間がかかるのでランダムな100つを使う\n",
    "# 100つでも同じような結果を得ることができる\n",
    "# feed_dictでplaceholderに値を入力することができる\n",
    "for i in range(1000):\n",
    "  batch_xs, batch_ys = mnist.train.next_batch(100)\n",
    "  sess.run(train_step, feed_dict={x: batch_xs, y_: batch_ys})"
   ]
  },
  {
   "cell_type": "code",
   "execution_count": 10,
   "metadata": {
    "collapsed": true
   },
   "outputs": [],
   "source": [
    "# 正しいかの予測\n",
    "# 計算された画像がどの数字であるかの予測yと正解ラベルy_を比較する\n",
    "# 同じ値であればTrueが返される\n",
    "# argmaxは配列の中で一番値の大きい箇所のindexが返される\n",
    "# 一番値が大きいindexということは、それがその数字である確率が一番大きいということ\n",
    "# Trueが返ってくるということは訓練した結果と回答が同じということ\n",
    "correct_prediction = tf.equal(tf.argmax(y,1), tf.argmax(y_,1))"
   ]
  },
  {
   "cell_type": "code",
   "execution_count": 11,
   "metadata": {
    "collapsed": true
   },
   "outputs": [],
   "source": [
    "# 精度の計算\n",
    "# correct_predictionはbooleanなのでfloatにキャストし、平均値を計算する\n",
    "# Trueならば1、Falseならば0に変換される\n",
    "accuracy = tf.reduce_mean(tf.cast(correct_prediction, tf.float32))"
   ]
  },
  {
   "cell_type": "code",
   "execution_count": 12,
   "metadata": {
    "collapsed": false
   },
   "outputs": [
    {
     "name": "stdout",
     "output_type": "stream",
     "text": [
      "0.9189\n"
     ]
    }
   ],
   "source": [
    "# 精度の実行と表示\n",
    "# テストデータの画像とラベルで精度を確認する\n",
    "# ソフトマックス回帰によってWとbの値が計算されているので、xを入力することでyが計算できる\n",
    "print(sess.run(accuracy, feed_dict={x: mnist.test.images, y_: mnist.test.labels}))"
   ]
  },
  {
   "cell_type": "code",
   "execution_count": null,
   "metadata": {
    "collapsed": true
   },
   "outputs": [],
   "source": []
  }
 ],
 "metadata": {
  "kernelspec": {
   "display_name": "Python 3",
   "language": "python",
   "name": "python3"
  },
  "language_info": {
   "codemirror_mode": {
    "name": "ipython",
    "version": 3
   },
   "file_extension": ".py",
   "mimetype": "text/x-python",
   "name": "python",
   "nbconvert_exporter": "python",
   "pygments_lexer": "ipython3",
   "version": "3.5.2"
  }
 },
 "nbformat": 4,
 "nbformat_minor": 0
}
