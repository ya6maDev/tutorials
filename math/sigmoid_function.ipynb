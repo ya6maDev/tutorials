{
 "cells": [
  {
   "cell_type": "markdown",
   "metadata": {
    "slideshow": {
     "slide_type": "slide"
    }
   },
   "source": [
    "## シグモイド関数\n",
    "\n",
    "### 活性化関数には、滑らかな曲線を描画出来る「シグモイド関数」を利用することが近年ではポピュラーである。シグモイド関数には以下の特徴がある。\n",
    "\n",
    "* シグモイド関数の出力値は0〜1の間の数値になる。\n",
    "* 入力値が小さい場合は出力値は0に近く、大きい場合は1に近づく。\n",
    "* シグモイド関数の微分は入力値が0の時に最大値を出力値とする。\n",
    "* 滑らかな曲線を描画出来るので、入力値の特徴が出やすい。\n",
    "* シグモイド関数の微分は入力値が0の場合に、出力値が最大になる。"
   ]
  },
  {
   "cell_type": "code",
   "execution_count": 1,
   "metadata": {
    "collapsed": true,
    "slideshow": {
     "slide_type": "slide"
    }
   },
   "outputs": [],
   "source": [
    "#coding: UTF-8\n",
    "\n",
    "import matplotlib.pyplot as plt\n",
    "import numpy as np\n",
    "import math"
   ]
  },
  {
   "cell_type": "code",
   "execution_count": 2,
   "metadata": {
    "collapsed": true,
    "slideshow": {
     "slide_type": "slide"
    }
   },
   "outputs": [],
   "source": [
    "\"\"\"\n",
    "シグモイド関数を求めて、返す\n",
    "\"\"\"\n",
    "def sigmoid(x):\n",
    "    # s = 1 / (1 + e(ネイピア数)^(-x))\n",
    "    s = 1 / (1 + math.e**-x)\n",
    "    return s"
   ]
  },
  {
   "cell_type": "code",
   "execution_count": 3,
   "metadata": {
    "collapsed": true,
    "slideshow": {
     "slide_type": "slide"
    }
   },
   "outputs": [],
   "source": [
    "\"\"\"\n",
    "シグモイド関数の微分を求めて、返す\n",
    "\"\"\"\n",
    "def d_sigmoid(x):\n",
    "    d = sigmoid(x)*(1 - sigmoid(x))\n",
    "    return d"
   ]
  },
  {
   "cell_type": "code",
   "execution_count": 4,
   "metadata": {
    "collapsed": true,
    "slideshow": {
     "slide_type": "slide"
    }
   },
   "outputs": [],
   "source": [
    "# 増加量\n",
    "dx = 0.1\n",
    "# 　-10から10までの間、0.1ずつ増加する配列を作成する\n",
    "x = np.arange(-10,10,dx)"
   ]
  },
  {
   "cell_type": "code",
   "execution_count": 5,
   "metadata": {
    "collapsed": false,
    "slideshow": {
     "slide_type": "slide"
    }
   },
   "outputs": [],
   "source": [
    "# シグモイド関数: y = 1 / (1 + e^(-x))\n",
    "y_sig = sigmoid(x)\n",
    "# シグモイド関数の傾き(微分)\n",
    "dy_sig = d_sigmoid(x)"
   ]
  },
  {
   "cell_type": "code",
   "execution_count": 6,
   "metadata": {
    "collapsed": false,
    "scrolled": false,
    "slideshow": {
     "slide_type": "slide"
    }
   },
   "outputs": [
    {
     "data": {
      "image/png": "[encoded data removed]",
      "text/plain": [
       "<matplotlib.figure.Figure at 0x10a938278>"
      ]
     },
     "metadata": {},
     "output_type": "display_data"
    }
   ],
   "source": [
    "# シグモイド関数は0〜1の間に値を取る\n",
    "plt.plot(x, y_sig, label = \"sigmoid\")\n",
    "# シグモイド関数の微分は0の時に最大値を取る\n",
    "plt.plot(x, dy_sig, label = \"dy_sigmoid\")\n",
    "# y軸 = 0.5に赤色の線を入れる\n",
    "plt.axhline(y=0.5, lw=0.5, color='red',linestyle='dashdot') \n",
    "# x軸 = 0に緑色の線を入れる\n",
    "plt.axvline(x=0.0, lw=0.5, color='green',linestyle='dashdot') \n",
    "plt.legend()\n",
    "plt.show()"
   ]
  }
 ],
 "metadata": {
  "kernelspec": {
   "display_name": "Python 3",
   "language": "python",
   "name": "python3"
  },
  "language_info": {
   "codemirror_mode": {
    "name": "ipython",
    "version": 3
   },
   "file_extension": ".py",
   "mimetype": "text/x-python",
   "name": "python",
   "nbconvert_exporter": "python",
   "pygments_lexer": "ipython3",
   "version": "3.5.2"
  }
 },
 "nbformat": 4,
 "nbformat_minor": 2
}
