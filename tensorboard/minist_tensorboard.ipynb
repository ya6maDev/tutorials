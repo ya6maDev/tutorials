{
 "cells": [
  {
   "cell_type": "markdown",
   "metadata": {},
   "source": [
    "### MNIST For ML Beginnersの内容をtensorboardで表示させる\n",
    "\n",
    "https://www.tensorflow.org/get_started/mnist/beginners\n",
    "\n",
    "#### TensorBoardを使用する際の考慮点\n",
    "1. With構文を用いたグラフコンテキスト内に、Placeholder、Variable、計算値の定義を記載する。\n",
    "\n",
    "2. With構文による「name_scope」を用いて、入力層、隠れ層、出力層などに構成要素をグループ化する。\n",
    "\n",
    "3. ネットワークグラフに付与するラベル名をコード内で指定する。\n",
    "\n",
    "4. グラフに表示するパラメータを宣言して、「summary.FileWriter」オブジェクトでデータを書き出す。"
   ]
  },
  {
   "cell_type": "code",
   "execution_count": 1,
   "metadata": {
    "collapsed": true
   },
   "outputs": [],
   "source": [
    "import tensorflow as tf\n",
    "from tensorflow.examples.tutorials.mnist import input_data"
   ]
  },
  {
   "cell_type": "code",
   "execution_count": 2,
   "metadata": {
    "collapsed": false
   },
   "outputs": [
    {
     "name": "stdout",
     "output_type": "stream",
     "text": [
      "Extracting MNIST_data/train-images-idx3-ubyte.gz\n",
      "Extracting MNIST_data/train-labels-idx1-ubyte.gz\n",
      "Extracting MNIST_data/t10k-images-idx3-ubyte.gz\n",
      "Extracting MNIST_data/t10k-labels-idx1-ubyte.gz\n"
     ]
    }
   ],
   "source": [
    "# 手書き文字データを取得。\n",
    "mnist = input_data.read_data_sets(\"MNIST_data/\", one_hot=True)"
   ]
  },
  {
   "cell_type": "code",
   "execution_count": 3,
   "metadata": {
    "collapsed": true
   },
   "outputs": [],
   "source": [
    "\"\"\"\n",
    "With構文を用いたグラフコンテキスト内に、Placeholder、Variable、計算値の定義を記載するため、\n",
    "クラスを生成する。\n",
    "\"\"\" \n",
    "class MnistBeginnerModel:\n",
    "    # コンストラクタ\n",
    "    def __init__ (self):\n",
    "        # グラグコンテキストを開始する。\n",
    "        with tf.Graph().as_default():\n",
    "            # モデルを準備する関数を呼び出す。\n",
    "            self.prepare_model()\n",
    "            # セッションを準備する関数を呼び出す。\n",
    "            self.prepare_session()\n",
    "    \n",
    "    # モデルを準備する\n",
    "    def prepare_model(self):\n",
    "        \n",
    "        # 以下で入力や出力などの構成単位でネームスコープを定義する。\n",
    "        \n",
    "        # inputとなる項目をグループ化\n",
    "        with tf.name_scope(\"input\"):\n",
    "            # placeholderは、値（テンソル）が入力される場所\n",
    "            # [None, 784]は2次元のテンソル。Noneは次元の指定なしの意味\n",
    "            x = tf.placeholder(tf.float32 , [None, 784] , name = \"x\")\n",
    "            \n",
    "            # 重みを定義\n",
    "            # Variableは変更可能なテンソル\n",
    "            w = tf.Variable(tf.zeros([784, 10]) , name = \"weight\")\n",
    "            \n",
    "            # バイアスを定義\n",
    "            b = tf.Variable(tf.zeros([10]) , name = \"baias\")\n",
    "        \n",
    "        with tf.name_scope(\"output\"):\n",
    "            # x * W + bを計算。\n",
    "            # ソフトマックス関数を用いることで、xW+bの各要素を0~1に変換している\n",
    "            y = tf.nn.softmax(tf.matmul(x, w) + b , name = \"softmax\")\n",
    "        \n",
    "        with tf.name_scope(\"optimizer\"):\n",
    "            # 正解ラベル\n",
    "            y_ = tf.placeholder(tf.float32, [None, 10] , name = \"label\")\n",
    "            \n",
    "            #  クロスエントロピー(コスト関数)\n",
    "            # (教師データの入力からNNを用いて求めた出力)とy_（教師データの正解）のクロスエントロピーを計算して、正解度をチェック\n",
    "            cross_entropy = tf.reduce_mean(-tf.reduce_sum(y_ * tf.log(y) , reduction_indices=[1]) , name = \"loss\")\n",
    "            \n",
    "            # 最急降下法を用いてクロスエントロピーの最小化を図る\n",
    "            train_step = tf.train.GradientDescentOptimizer(0.5).minimize(cross_entropy)\n",
    "            \n",
    "        with tf.name_scope(\"evaluating\"):\n",
    "            # 学習させた後、未知のデータを正しく分類できるかの評価基準を設定\n",
    "            correct_prediction = tf.equal(tf.argmax(y,1), tf.argmax(y_,1))\n",
    "            \n",
    "            # correct_predictionは、[True, False, True, True,　・・・]といったデータ構造なので、これを0(False),1(True)に対応付けて、その平均値を計算\n",
    "            accuracy = tf.reduce_mean(tf.cast(correct_prediction, tf.float32) , name = \"accuracy\")\n",
    "            \n",
    "        \n",
    "        # tf.summary.scalar()は誤差関数や正解率のような、単一の値を取る要素について変化を折れ線グラフとして表示する。\n",
    "        \n",
    "        # クロスエントロピーを折れ線グラフとして表示させるため、定義\n",
    "        tf.summary.scalar(\"loss\" , cross_entropy)\n",
    "        \n",
    "        # 正解の平均値を折れ線グラフとして表示する。\n",
    "        tf.summary.scalar(\"accuracy\" , accuracy)\n",
    "        \n",
    "        # tf.summary.histogram'()は複数の要素を含む多次元リストについて、値の分布を表示する。\n",
    "        \n",
    "        # 重みをヒストグラムで表示する。\n",
    "        tf.summary.histogram(\"weight\" , w)\n",
    "        \n",
    "        # クラスの外部から参照する必要がある変数をインスタンス変数として公開する。\n",
    "        self.x ,self.y , self.y_ = x , y , y_\n",
    "        self.train_step = train_step\n",
    "        self.loss = cross_entropy\n",
    "        self.accuracy = accuracy\n",
    "        \n",
    "    def prepare_session(self):\n",
    "        #   Sessionを初期化して開始\n",
    "        sess = tf.InteractiveSession()\n",
    "        sess.run(tf.global_variables_initializer())\n",
    "        # 定義した表示項目をマージ\n",
    "        summary = tf.summary.merge_all()\n",
    "        # 出力先を指定して、書き出し用のオブジェクトを定義\n",
    "        writer = tf.summary.FileWriter(\"temp/minist_tensorboard_data\" , sess.graph)\n",
    "        \n",
    "        # クラスの外部から参照する必要がある変数をインスタンス変数として公開する。\n",
    "        self.sess = sess\n",
    "        self.summary = summary\n",
    "        self.writer = writer"
   ]
  },
  {
   "cell_type": "code",
   "execution_count": 4,
   "metadata": {
    "collapsed": false
   },
   "outputs": [],
   "source": [
    "# 以前に実行したデータが残っているとTensorBoardの出力が乱れることがあるので、フォルダを削除しておく。\n",
    "!rm -rf temp/minist_tensorboard_data"
   ]
  },
  {
   "cell_type": "code",
   "execution_count": 5,
   "metadata": {
    "collapsed": false
   },
   "outputs": [
    {
     "name": "stdout",
     "output_type": "stream",
     "text": [
      "Step : 100 , Loss :  0.385322 , Accuracy : 0.894300\n",
      "Step : 200 , Loss :  0.349057 , Accuracy : 0.903700\n",
      "Step : 300 , Loss :  0.326020 , Accuracy : 0.908300\n",
      "Step : 400 , Loss :  0.333351 , Accuracy : 0.903700\n",
      "Step : 500 , Loss :  0.320673 , Accuracy : 0.909400\n",
      "Step : 600 , Loss :  0.312486 , Accuracy : 0.909500\n",
      "Step : 700 , Loss :  0.295034 , Accuracy : 0.916100\n",
      "Step : 800 , Loss :  0.300036 , Accuracy : 0.915600\n",
      "Step : 900 , Loss :  0.296166 , Accuracy : 0.917500\n",
      "Step : 1000 , Loss :  0.292919 , Accuracy : 0.919300\n",
      "Step : 1100 , Loss :  0.291226 , Accuracy : 0.918700\n",
      "Step : 1200 , Loss :  0.288829 , Accuracy : 0.917100\n",
      "Step : 1300 , Loss :  0.289277 , Accuracy : 0.917600\n",
      "Step : 1400 , Loss :  0.289422 , Accuracy : 0.916300\n",
      "Step : 1500 , Loss :  0.291647 , Accuracy : 0.918700\n",
      "Step : 1600 , Loss :  0.285784 , Accuracy : 0.921600\n",
      "Step : 1700 , Loss :  0.284413 , Accuracy : 0.916800\n",
      "Step : 1800 , Loss :  0.285138 , Accuracy : 0.920100\n",
      "Step : 1900 , Loss :  0.279823 , Accuracy : 0.920900\n",
      "Step : 2000 , Loss :  0.285350 , Accuracy : 0.919500\n"
     ]
    }
   ],
   "source": [
    "mnist_model = MnistBeginnerModel()\n",
    "\n",
    "i = 0\n",
    "for _ in  range(2000):\n",
    "    i += 1\n",
    "    batch_xs, batch_ys = mnist.train.next_batch(100)\n",
    "    mnist_model.sess.run(mnist_model.train_step, feed_dict={mnist_model.x: batch_xs, mnist_model.y_: batch_ys})\n",
    "    \n",
    "    if i % 100 ==0:\n",
    "        summary, loss_val , acc_val = mnist_model.sess.run([mnist_model.summary , mnist_model.loss , mnist_model.accuracy],\n",
    "                                                          feed_dict={mnist_model.x: mnist.test.images, mnist_model.y_: mnist.test.labels})\n",
    "        print('Step : %d , Loss :  %f , Accuracy : %f' %(i,loss_val, acc_val))\n",
    "        mnist_model.writer.add_summary(summary , i)"
   ]
  },
  {
   "cell_type": "code",
   "execution_count": 6,
   "metadata": {
    "collapsed": true
   },
   "outputs": [],
   "source": [
    "# ターミナルで以下を打鍵\n",
    "# tensorboard --logdir=temp/minist_tensorboard_data\n",
    "\n",
    "# もし表示した先が何も出力されていなければ、pwdで現在地を調べる。\n",
    "# logdirの先にファイルがなくてもTensorBoardは起動する。"
   ]
  }
 ],
 "metadata": {
  "kernelspec": {
   "display_name": "Python 3",
   "language": "python",
   "name": "python3"
  },
  "language_info": {
   "codemirror_mode": {
    "name": "ipython",
    "version": 3
   },
   "file_extension": ".py",
   "mimetype": "text/x-python",
   "name": "python",
   "nbconvert_exporter": "python",
   "pygments_lexer": "ipython3",
   "version": "3.5.2"
  }
 },
 "nbformat": 4,
 "nbformat_minor": 2
}
